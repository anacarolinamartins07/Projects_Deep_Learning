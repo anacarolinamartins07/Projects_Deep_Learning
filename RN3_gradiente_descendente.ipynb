{
  "nbformat": 4,
  "nbformat_minor": 0,
  "metadata": {
    "colab": {
      "provenance": [],
      "authorship_tag": "ABX9TyNdw8UTAV1xNEC1AUSHzpDK",
      "include_colab_link": true
    },
    "kernelspec": {
      "name": "python3",
      "display_name": "Python 3"
    },
    "language_info": {
      "name": "python"
    }
  },
  "cells": [
    {
      "cell_type": "markdown",
      "metadata": {
        "id": "view-in-github",
        "colab_type": "text"
      },
      "source": [
        "<a href=\"https://colab.research.google.com/github/anacarolinamartins07/Projects_Deep_Learning/blob/main/RN3_gradiente_descendente.ipynb\" target=\"_parent\"><img src=\"https://colab.research.google.com/assets/colab-badge.svg\" alt=\"Open In Colab\"/></a>"
      ]
    },
    {
      "cell_type": "markdown",
      "source": [
        "# GRADIENTE DESCENDENTE ESTOCÁSTICO - com uma camada oculta"
      ],
      "metadata": {
        "id": "xGA5d9EXcJo_"
      }
    },
    {
      "cell_type": "markdown",
      "source": [
        "#### fazer introducao do problema"
      ],
      "metadata": {
        "id": "hIzHxm_daaw-"
      }
    },
    {
      "cell_type": "code",
      "execution_count": null,
      "metadata": {
        "colab": {
          "base_uri": "https://localhost:8080/",
          "height": 35
        },
        "id": "-bC-tP4jL6t4",
        "outputId": "0358b9e0-edb2-435c-ac17-42328e00bc79"
      },
      "outputs": [
        {
          "output_type": "execute_result",
          "data": {
            "text/plain": [
              "'2.15.0'"
            ],
            "application/vnd.google.colaboratory.intrinsic+json": {
              "type": "string"
            }
          },
          "metadata": {},
          "execution_count": 1
        }
      ],
      "source": [
        "#importando as bibiotecas\n",
        "import numpy as np\n",
        "import pandas as pd\n",
        "import tensorflow as tf\n",
        "tf.__version__ #ver versao do tensorflow"
      ]
    },
    {
      "cell_type": "markdown",
      "source": [
        "###Coleta e análise"
      ],
      "metadata": {
        "id": "jyBW9clRahOS"
      }
    },
    {
      "cell_type": "code",
      "source": [
        "#importando conjunto de dados\n",
        "\n",
        "df= pd.read_excel(\"/content/Folds5x2_pp.xlsx\")\n",
        "df.head()"
      ],
      "metadata": {
        "colab": {
          "base_uri": "https://localhost:8080/",
          "height": 204
        },
        "id": "dxWutr8kf8ic",
        "outputId": "ba01e6ec-fd87-4a85-a5cd-9d2f1e736fb4"
      },
      "execution_count": null,
      "outputs": [
        {
          "output_type": "execute_result",
          "data": {
            "text/plain": [
              "      AT      V       AP     RH      PE\n",
              "0  14.96  41.76  1024.07  73.17  463.26\n",
              "1  25.18  62.96  1020.04  59.08  444.37\n",
              "2   5.11  39.40  1012.16  92.14  488.56\n",
              "3  20.86  57.32  1010.24  76.64  446.48\n",
              "4  10.82  37.50  1009.23  96.62  473.90"
            ],
            "text/html": [
              "\n",
              "  <div id=\"df-901cf10a-1c9f-439a-b2f1-970a992215a6\" class=\"colab-df-container\">\n",
              "    <div>\n",
              "<style scoped>\n",
              "    .dataframe tbody tr th:only-of-type {\n",
              "        vertical-align: middle;\n",
              "    }\n",
              "\n",
              "    .dataframe tbody tr th {\n",
              "        vertical-align: top;\n",
              "    }\n",
              "\n",
              "    .dataframe thead th {\n",
              "        text-align: right;\n",
              "    }\n",
              "</style>\n",
              "<table border=\"1\" class=\"dataframe\">\n",
              "  <thead>\n",
              "    <tr style=\"text-align: right;\">\n",
              "      <th></th>\n",
              "      <th>AT</th>\n",
              "      <th>V</th>\n",
              "      <th>AP</th>\n",
              "      <th>RH</th>\n",
              "      <th>PE</th>\n",
              "    </tr>\n",
              "  </thead>\n",
              "  <tbody>\n",
              "    <tr>\n",
              "      <th>0</th>\n",
              "      <td>14.96</td>\n",
              "      <td>41.76</td>\n",
              "      <td>1024.07</td>\n",
              "      <td>73.17</td>\n",
              "      <td>463.26</td>\n",
              "    </tr>\n",
              "    <tr>\n",
              "      <th>1</th>\n",
              "      <td>25.18</td>\n",
              "      <td>62.96</td>\n",
              "      <td>1020.04</td>\n",
              "      <td>59.08</td>\n",
              "      <td>444.37</td>\n",
              "    </tr>\n",
              "    <tr>\n",
              "      <th>2</th>\n",
              "      <td>5.11</td>\n",
              "      <td>39.40</td>\n",
              "      <td>1012.16</td>\n",
              "      <td>92.14</td>\n",
              "      <td>488.56</td>\n",
              "    </tr>\n",
              "    <tr>\n",
              "      <th>3</th>\n",
              "      <td>20.86</td>\n",
              "      <td>57.32</td>\n",
              "      <td>1010.24</td>\n",
              "      <td>76.64</td>\n",
              "      <td>446.48</td>\n",
              "    </tr>\n",
              "    <tr>\n",
              "      <th>4</th>\n",
              "      <td>10.82</td>\n",
              "      <td>37.50</td>\n",
              "      <td>1009.23</td>\n",
              "      <td>96.62</td>\n",
              "      <td>473.90</td>\n",
              "    </tr>\n",
              "  </tbody>\n",
              "</table>\n",
              "</div>\n",
              "    <div class=\"colab-df-buttons\">\n",
              "\n",
              "  <div class=\"colab-df-container\">\n",
              "    <button class=\"colab-df-convert\" onclick=\"convertToInteractive('df-901cf10a-1c9f-439a-b2f1-970a992215a6')\"\n",
              "            title=\"Convert this dataframe to an interactive table.\"\n",
              "            style=\"display:none;\">\n",
              "\n",
              "  <svg xmlns=\"http://www.w3.org/2000/svg\" height=\"24px\" viewBox=\"0 -960 960 960\">\n",
              "    <path d=\"M120-120v-720h720v720H120Zm60-500h600v-160H180v160Zm220 220h160v-160H400v160Zm0 220h160v-160H400v160ZM180-400h160v-160H180v160Zm440 0h160v-160H620v160ZM180-180h160v-160H180v160Zm440 0h160v-160H620v160Z\"/>\n",
              "  </svg>\n",
              "    </button>\n",
              "\n",
              "  <style>\n",
              "    .colab-df-container {\n",
              "      display:flex;\n",
              "      gap: 12px;\n",
              "    }\n",
              "\n",
              "    .colab-df-convert {\n",
              "      background-color: #E8F0FE;\n",
              "      border: none;\n",
              "      border-radius: 50%;\n",
              "      cursor: pointer;\n",
              "      display: none;\n",
              "      fill: #1967D2;\n",
              "      height: 32px;\n",
              "      padding: 0 0 0 0;\n",
              "      width: 32px;\n",
              "    }\n",
              "\n",
              "    .colab-df-convert:hover {\n",
              "      background-color: #E2EBFA;\n",
              "      box-shadow: 0px 1px 2px rgba(60, 64, 67, 0.3), 0px 1px 3px 1px rgba(60, 64, 67, 0.15);\n",
              "      fill: #174EA6;\n",
              "    }\n",
              "\n",
              "    .colab-df-buttons div {\n",
              "      margin-bottom: 4px;\n",
              "    }\n",
              "\n",
              "    [theme=dark] .colab-df-convert {\n",
              "      background-color: #3B4455;\n",
              "      fill: #D2E3FC;\n",
              "    }\n",
              "\n",
              "    [theme=dark] .colab-df-convert:hover {\n",
              "      background-color: #434B5C;\n",
              "      box-shadow: 0px 1px 3px 1px rgba(0, 0, 0, 0.15);\n",
              "      filter: drop-shadow(0px 1px 2px rgba(0, 0, 0, 0.3));\n",
              "      fill: #FFFFFF;\n",
              "    }\n",
              "  </style>\n",
              "\n",
              "    <script>\n",
              "      const buttonEl =\n",
              "        document.querySelector('#df-901cf10a-1c9f-439a-b2f1-970a992215a6 button.colab-df-convert');\n",
              "      buttonEl.style.display =\n",
              "        google.colab.kernel.accessAllowed ? 'block' : 'none';\n",
              "\n",
              "      async function convertToInteractive(key) {\n",
              "        const element = document.querySelector('#df-901cf10a-1c9f-439a-b2f1-970a992215a6');\n",
              "        const dataTable =\n",
              "          await google.colab.kernel.invokeFunction('convertToInteractive',\n",
              "                                                    [key], {});\n",
              "        if (!dataTable) return;\n",
              "\n",
              "        const docLinkHtml = 'Like what you see? Visit the ' +\n",
              "          '<a target=\"_blank\" href=https://colab.research.google.com/notebooks/data_table.ipynb>data table notebook</a>'\n",
              "          + ' to learn more about interactive tables.';\n",
              "        element.innerHTML = '';\n",
              "        dataTable['output_type'] = 'display_data';\n",
              "        await google.colab.output.renderOutput(dataTable, element);\n",
              "        const docLink = document.createElement('div');\n",
              "        docLink.innerHTML = docLinkHtml;\n",
              "        element.appendChild(docLink);\n",
              "      }\n",
              "    </script>\n",
              "  </div>\n",
              "\n",
              "\n",
              "<div id=\"df-423ffee2-4546-4af5-bf6a-4cee9ecbac55\">\n",
              "  <button class=\"colab-df-quickchart\" onclick=\"quickchart('df-423ffee2-4546-4af5-bf6a-4cee9ecbac55')\"\n",
              "            title=\"Suggest charts\"\n",
              "            style=\"display:none;\">\n",
              "\n",
              "<svg xmlns=\"http://www.w3.org/2000/svg\" height=\"24px\"viewBox=\"0 0 24 24\"\n",
              "     width=\"24px\">\n",
              "    <g>\n",
              "        <path d=\"M19 3H5c-1.1 0-2 .9-2 2v14c0 1.1.9 2 2 2h14c1.1 0 2-.9 2-2V5c0-1.1-.9-2-2-2zM9 17H7v-7h2v7zm4 0h-2V7h2v10zm4 0h-2v-4h2v4z\"/>\n",
              "    </g>\n",
              "</svg>\n",
              "  </button>\n",
              "\n",
              "<style>\n",
              "  .colab-df-quickchart {\n",
              "      --bg-color: #E8F0FE;\n",
              "      --fill-color: #1967D2;\n",
              "      --hover-bg-color: #E2EBFA;\n",
              "      --hover-fill-color: #174EA6;\n",
              "      --disabled-fill-color: #AAA;\n",
              "      --disabled-bg-color: #DDD;\n",
              "  }\n",
              "\n",
              "  [theme=dark] .colab-df-quickchart {\n",
              "      --bg-color: #3B4455;\n",
              "      --fill-color: #D2E3FC;\n",
              "      --hover-bg-color: #434B5C;\n",
              "      --hover-fill-color: #FFFFFF;\n",
              "      --disabled-bg-color: #3B4455;\n",
              "      --disabled-fill-color: #666;\n",
              "  }\n",
              "\n",
              "  .colab-df-quickchart {\n",
              "    background-color: var(--bg-color);\n",
              "    border: none;\n",
              "    border-radius: 50%;\n",
              "    cursor: pointer;\n",
              "    display: none;\n",
              "    fill: var(--fill-color);\n",
              "    height: 32px;\n",
              "    padding: 0;\n",
              "    width: 32px;\n",
              "  }\n",
              "\n",
              "  .colab-df-quickchart:hover {\n",
              "    background-color: var(--hover-bg-color);\n",
              "    box-shadow: 0 1px 2px rgba(60, 64, 67, 0.3), 0 1px 3px 1px rgba(60, 64, 67, 0.15);\n",
              "    fill: var(--button-hover-fill-color);\n",
              "  }\n",
              "\n",
              "  .colab-df-quickchart-complete:disabled,\n",
              "  .colab-df-quickchart-complete:disabled:hover {\n",
              "    background-color: var(--disabled-bg-color);\n",
              "    fill: var(--disabled-fill-color);\n",
              "    box-shadow: none;\n",
              "  }\n",
              "\n",
              "  .colab-df-spinner {\n",
              "    border: 2px solid var(--fill-color);\n",
              "    border-color: transparent;\n",
              "    border-bottom-color: var(--fill-color);\n",
              "    animation:\n",
              "      spin 1s steps(1) infinite;\n",
              "  }\n",
              "\n",
              "  @keyframes spin {\n",
              "    0% {\n",
              "      border-color: transparent;\n",
              "      border-bottom-color: var(--fill-color);\n",
              "      border-left-color: var(--fill-color);\n",
              "    }\n",
              "    20% {\n",
              "      border-color: transparent;\n",
              "      border-left-color: var(--fill-color);\n",
              "      border-top-color: var(--fill-color);\n",
              "    }\n",
              "    30% {\n",
              "      border-color: transparent;\n",
              "      border-left-color: var(--fill-color);\n",
              "      border-top-color: var(--fill-color);\n",
              "      border-right-color: var(--fill-color);\n",
              "    }\n",
              "    40% {\n",
              "      border-color: transparent;\n",
              "      border-right-color: var(--fill-color);\n",
              "      border-top-color: var(--fill-color);\n",
              "    }\n",
              "    60% {\n",
              "      border-color: transparent;\n",
              "      border-right-color: var(--fill-color);\n",
              "    }\n",
              "    80% {\n",
              "      border-color: transparent;\n",
              "      border-right-color: var(--fill-color);\n",
              "      border-bottom-color: var(--fill-color);\n",
              "    }\n",
              "    90% {\n",
              "      border-color: transparent;\n",
              "      border-bottom-color: var(--fill-color);\n",
              "    }\n",
              "  }\n",
              "</style>\n",
              "\n",
              "  <script>\n",
              "    async function quickchart(key) {\n",
              "      const quickchartButtonEl =\n",
              "        document.querySelector('#' + key + ' button');\n",
              "      quickchartButtonEl.disabled = true;  // To prevent multiple clicks.\n",
              "      quickchartButtonEl.classList.add('colab-df-spinner');\n",
              "      try {\n",
              "        const charts = await google.colab.kernel.invokeFunction(\n",
              "            'suggestCharts', [key], {});\n",
              "      } catch (error) {\n",
              "        console.error('Error during call to suggestCharts:', error);\n",
              "      }\n",
              "      quickchartButtonEl.classList.remove('colab-df-spinner');\n",
              "      quickchartButtonEl.classList.add('colab-df-quickchart-complete');\n",
              "    }\n",
              "    (() => {\n",
              "      let quickchartButtonEl =\n",
              "        document.querySelector('#df-423ffee2-4546-4af5-bf6a-4cee9ecbac55 button');\n",
              "      quickchartButtonEl.style.display =\n",
              "        google.colab.kernel.accessAllowed ? 'block' : 'none';\n",
              "    })();\n",
              "  </script>\n",
              "</div>\n",
              "\n",
              "    </div>\n",
              "  </div>\n"
            ],
            "application/vnd.google.colaboratory.intrinsic+json": {
              "type": "dataframe",
              "variable_name": "df",
              "summary": "{\n  \"name\": \"df\",\n  \"rows\": 9568,\n  \"fields\": [\n    {\n      \"column\": \"AT\",\n      \"properties\": {\n        \"dtype\": \"number\",\n        \"std\": 7.452473229611079,\n        \"min\": 1.81,\n        \"max\": 37.11,\n        \"num_unique_values\": 2773,\n        \"samples\": [\n          12.54,\n          4.49,\n          6.64\n        ],\n        \"semantic_type\": \"\",\n        \"description\": \"\"\n      }\n    },\n    {\n      \"column\": \"V\",\n      \"properties\": {\n        \"dtype\": \"number\",\n        \"std\": 12.707892998326809,\n        \"min\": 25.36,\n        \"max\": 81.56,\n        \"num_unique_values\": 634,\n        \"samples\": [\n          74.33,\n          73.67,\n          58.82\n        ],\n        \"semantic_type\": \"\",\n        \"description\": \"\"\n      }\n    },\n    {\n      \"column\": \"AP\",\n      \"properties\": {\n        \"dtype\": \"number\",\n        \"std\": 5.938783705811607,\n        \"min\": 992.89,\n        \"max\": 1033.3,\n        \"num_unique_values\": 2517,\n        \"samples\": [\n          1020.46,\n          1015.73,\n          1027.64\n        ],\n        \"semantic_type\": \"\",\n        \"description\": \"\"\n      }\n    },\n    {\n      \"column\": \"RH\",\n      \"properties\": {\n        \"dtype\": \"number\",\n        \"std\": 14.600268756728953,\n        \"min\": 25.56,\n        \"max\": 100.16,\n        \"num_unique_values\": 4546,\n        \"samples\": [\n          62.8,\n          82.33,\n          47.19\n        ],\n        \"semantic_type\": \"\",\n        \"description\": \"\"\n      }\n    },\n    {\n      \"column\": \"PE\",\n      \"properties\": {\n        \"dtype\": \"number\",\n        \"std\": 17.066994999803416,\n        \"min\": 420.26,\n        \"max\": 495.76,\n        \"num_unique_values\": 4836,\n        \"samples\": [\n          473.87,\n          475.41,\n          468.81\n        ],\n        \"semantic_type\": \"\",\n        \"description\": \"\"\n      }\n    }\n  ]\n}"
            }
          },
          "metadata": {},
          "execution_count": 2
        }
      ]
    },
    {
      "cell_type": "markdown",
      "source": [
        "### Pré-Processamento"
      ],
      "metadata": {
        "id": "WwRDEbskarFf"
      }
    },
    {
      "cell_type": "code",
      "source": [
        "x=df.iloc[:,:-1].values #para pegar as features\n",
        "y= df.iloc[:,-1].values #transforma de df para arrays fazer isso apenas para rn pois sao dados nao estruturados"
      ],
      "metadata": {
        "id": "o61k9J_kiHf6"
      },
      "execution_count": null,
      "outputs": []
    },
    {
      "cell_type": "markdown",
      "source": [
        "### Modelagem"
      ],
      "metadata": {
        "id": "APz0oeVnayBy"
      }
    },
    {
      "cell_type": "code",
      "source": [
        "from sklearn.model_selection import train_test_split #validacao hold out\n",
        "xtreino, xteste, ytreino, yteste = train_test_split(x , y, test_size= 0.2, random_state= 20)"
      ],
      "metadata": {
        "id": "My8cvwRaVd62"
      },
      "execution_count": null,
      "outputs": []
    },
    {
      "cell_type": "markdown",
      "source": [
        "### Construção de uma rede neural artificial"
      ],
      "metadata": {
        "id": "YOyAFA4ybhb-"
      }
    },
    {
      "cell_type": "code",
      "source": [
        "### definindo minha entrada (Iniciando minha ANN (input da minha rede))\n",
        "\n",
        "ann= tf.keras.models.Sequential()"
      ],
      "metadata": {
        "id": "ljbKqsEKbRWt"
      },
      "execution_count": null,
      "outputs": []
    },
    {
      "cell_type": "code",
      "source": [
        "#criando minha primeira camada\n",
        "\n",
        "ann.add(tf.keras.layers.Dense(units= 6, activation = \"sigmoid\")) #definindo quantos neuroninos (units) e a funcao de ativacao (sigmoid), layers(camadas)"
      ],
      "metadata": {
        "id": "UoRsVcW5dEqW"
      },
      "execution_count": null,
      "outputs": []
    },
    {
      "cell_type": "code",
      "source": [
        "#criando minha segunda camada\n",
        "\n",
        "ann.add(tf.keras.layers.Dense(units= 8, activation = \"relu\")) #definindo quantos neuroninos (units) e a funcao de ativacao (sigmoid), layers(camadas)"
      ],
      "metadata": {
        "id": "-ndA9bkSjDOf"
      },
      "execution_count": null,
      "outputs": []
    },
    {
      "cell_type": "code",
      "source": [
        "#definindo minha saida (output)\n",
        "\n",
        "ann.add(tf.keras.layers.Dense(units= 1)) #definindo quantos neuroninos (units) e a funcao de ativacao (sigmoid), layers(camadas)"
      ],
      "metadata": {
        "id": "_eBH7opidfvf"
      },
      "execution_count": null,
      "outputs": []
    },
    {
      "cell_type": "markdown",
      "source": [
        "### Treinando minha rede neural"
      ],
      "metadata": {
        "id": "ONdSQ6SIez1Y"
      }
    },
    {
      "cell_type": "code",
      "source": [
        "from keras.optimizers import SGD #importando a biblioteca estocastico gradiente descendente\n",
        "\n",
        "sgd= SGD(learning_rate= 0.02) #definindo minha sgd, learning_rate=(taxa de aprendizagem)"
      ],
      "metadata": {
        "id": "g14BRq8Ie27k"
      },
      "execution_count": null,
      "outputs": []
    },
    {
      "cell_type": "code",
      "source": [
        "ann.compile(loss= \"mean_squared_error\", optimizer= sgd) #mean_squad_error = calcula o (y hat), para encontrar o melhor peso sgd(gradiente descendente)"
      ],
      "metadata": {
        "id": "AEvbZDDrflrg"
      },
      "execution_count": null,
      "outputs": []
    },
    {
      "cell_type": "code",
      "source": [
        "#treinando a rede\n",
        "\n",
        "ann.fit(xtreino, ytreino, batch_size= 20, epochs= 120) #batch_size faz o calculo por blocos, epochs quantas vezes ele vai repetir os calculos"
      ],
      "metadata": {
        "colab": {
          "base_uri": "https://localhost:8080/"
        },
        "id": "r9xRdZ-XhJdS",
        "outputId": "4d306f6c-0ae4-4d4e-8a7c-f8e62f565d4c"
      },
      "execution_count": null,
      "outputs": [
        {
          "output_type": "stream",
          "name": "stdout",
          "text": [
            "Epoch 1/120\n",
            "383/383 [==============================] - 1s 2ms/step - loss: 291.4572\n",
            "Epoch 2/120\n",
            "383/383 [==============================] - 1s 2ms/step - loss: 291.7207\n",
            "Epoch 3/120\n",
            "383/383 [==============================] - 1s 2ms/step - loss: 291.6060\n",
            "Epoch 4/120\n",
            "383/383 [==============================] - 1s 2ms/step - loss: 291.3299\n",
            "Epoch 5/120\n",
            "383/383 [==============================] - 1s 2ms/step - loss: 291.5087\n",
            "Epoch 6/120\n",
            "383/383 [==============================] - 1s 2ms/step - loss: 291.9429\n",
            "Epoch 7/120\n",
            "383/383 [==============================] - 1s 2ms/step - loss: 291.6001\n",
            "Epoch 8/120\n",
            "383/383 [==============================] - 1s 2ms/step - loss: 291.3037\n",
            "Epoch 9/120\n",
            "383/383 [==============================] - 1s 2ms/step - loss: 291.2678\n",
            "Epoch 10/120\n",
            "383/383 [==============================] - 1s 2ms/step - loss: 291.7551\n",
            "Epoch 11/120\n",
            "383/383 [==============================] - 1s 2ms/step - loss: 291.6678\n",
            "Epoch 12/120\n",
            "383/383 [==============================] - 1s 2ms/step - loss: 291.0297\n",
            "Epoch 13/120\n",
            "383/383 [==============================] - 1s 2ms/step - loss: 291.3113\n",
            "Epoch 14/120\n",
            "383/383 [==============================] - 1s 2ms/step - loss: 291.5366\n",
            "Epoch 15/120\n",
            "383/383 [==============================] - 1s 2ms/step - loss: 291.4739\n",
            "Epoch 16/120\n",
            "383/383 [==============================] - 1s 2ms/step - loss: 291.2574\n",
            "Epoch 17/120\n",
            "383/383 [==============================] - 1s 2ms/step - loss: 291.5187\n",
            "Epoch 18/120\n",
            "383/383 [==============================] - 1s 2ms/step - loss: 291.1346\n",
            "Epoch 19/120\n",
            "383/383 [==============================] - 1s 2ms/step - loss: 291.8494\n",
            "Epoch 20/120\n",
            "383/383 [==============================] - 1s 2ms/step - loss: 291.6092\n",
            "Epoch 21/120\n",
            "383/383 [==============================] - 1s 2ms/step - loss: 291.6299\n",
            "Epoch 22/120\n",
            "383/383 [==============================] - 1s 2ms/step - loss: 291.6349\n",
            "Epoch 23/120\n",
            "383/383 [==============================] - 1s 2ms/step - loss: 290.9159\n",
            "Epoch 24/120\n",
            "383/383 [==============================] - 1s 2ms/step - loss: 291.9761\n",
            "Epoch 25/120\n",
            "383/383 [==============================] - 1s 2ms/step - loss: 291.6088\n",
            "Epoch 26/120\n",
            "383/383 [==============================] - 1s 2ms/step - loss: 290.5987\n",
            "Epoch 27/120\n",
            "383/383 [==============================] - 1s 2ms/step - loss: 291.2860\n",
            "Epoch 28/120\n",
            "383/383 [==============================] - 1s 2ms/step - loss: 291.4958\n",
            "Epoch 29/120\n",
            "383/383 [==============================] - 1s 2ms/step - loss: 291.6422\n",
            "Epoch 30/120\n",
            "383/383 [==============================] - 1s 2ms/step - loss: 291.7998\n",
            "Epoch 31/120\n",
            "383/383 [==============================] - 1s 2ms/step - loss: 291.6000\n",
            "Epoch 32/120\n",
            "383/383 [==============================] - 1s 2ms/step - loss: 291.0868\n",
            "Epoch 33/120\n",
            "383/383 [==============================] - 1s 2ms/step - loss: 290.9233\n",
            "Epoch 34/120\n",
            "383/383 [==============================] - 1s 2ms/step - loss: 292.4181\n",
            "Epoch 35/120\n",
            "383/383 [==============================] - 1s 2ms/step - loss: 291.2152\n",
            "Epoch 36/120\n",
            "383/383 [==============================] - 1s 2ms/step - loss: 291.9060\n",
            "Epoch 37/120\n",
            "383/383 [==============================] - 1s 2ms/step - loss: 291.7198\n",
            "Epoch 38/120\n",
            "383/383 [==============================] - 1s 2ms/step - loss: 291.5785\n",
            "Epoch 39/120\n",
            "383/383 [==============================] - 1s 2ms/step - loss: 291.7161\n",
            "Epoch 40/120\n",
            "383/383 [==============================] - 1s 2ms/step - loss: 291.7117\n",
            "Epoch 41/120\n",
            "383/383 [==============================] - 1s 2ms/step - loss: 291.9120\n",
            "Epoch 42/120\n",
            "383/383 [==============================] - 1s 2ms/step - loss: 291.0937\n",
            "Epoch 43/120\n",
            "383/383 [==============================] - 1s 2ms/step - loss: 290.9305\n",
            "Epoch 44/120\n",
            "383/383 [==============================] - 1s 2ms/step - loss: 291.1943\n",
            "Epoch 45/120\n",
            "383/383 [==============================] - 1s 2ms/step - loss: 291.3268\n",
            "Epoch 46/120\n",
            "383/383 [==============================] - 1s 2ms/step - loss: 291.0448\n",
            "Epoch 47/120\n",
            "383/383 [==============================] - 1s 2ms/step - loss: 291.4699\n",
            "Epoch 48/120\n",
            "383/383 [==============================] - 1s 2ms/step - loss: 291.4586\n",
            "Epoch 49/120\n",
            "383/383 [==============================] - 1s 2ms/step - loss: 292.1645\n",
            "Epoch 50/120\n",
            "383/383 [==============================] - 1s 2ms/step - loss: 291.1017\n",
            "Epoch 51/120\n",
            "383/383 [==============================] - 1s 2ms/step - loss: 291.8583\n",
            "Epoch 52/120\n",
            "383/383 [==============================] - 1s 2ms/step - loss: 291.4030\n",
            "Epoch 53/120\n",
            "383/383 [==============================] - 1s 2ms/step - loss: 291.9538\n",
            "Epoch 54/120\n",
            "383/383 [==============================] - 1s 2ms/step - loss: 291.4759\n",
            "Epoch 55/120\n",
            "383/383 [==============================] - 1s 2ms/step - loss: 291.3590\n",
            "Epoch 56/120\n",
            "383/383 [==============================] - 1s 2ms/step - loss: 291.8131\n",
            "Epoch 57/120\n",
            "383/383 [==============================] - 1s 2ms/step - loss: 291.7708\n",
            "Epoch 58/120\n",
            "383/383 [==============================] - 1s 2ms/step - loss: 291.7022\n",
            "Epoch 59/120\n",
            "383/383 [==============================] - 1s 2ms/step - loss: 292.1356\n",
            "Epoch 60/120\n",
            "383/383 [==============================] - 1s 2ms/step - loss: 291.8502\n",
            "Epoch 61/120\n",
            "383/383 [==============================] - 1s 2ms/step - loss: 291.8113\n",
            "Epoch 62/120\n",
            "383/383 [==============================] - 1s 2ms/step - loss: 291.6803\n",
            "Epoch 63/120\n",
            "383/383 [==============================] - 1s 2ms/step - loss: 291.3403\n",
            "Epoch 64/120\n",
            "383/383 [==============================] - 1s 2ms/step - loss: 291.2549\n",
            "Epoch 65/120\n",
            "383/383 [==============================] - 1s 2ms/step - loss: 290.4776\n",
            "Epoch 66/120\n",
            "383/383 [==============================] - 1s 2ms/step - loss: 291.9087\n",
            "Epoch 67/120\n",
            "383/383 [==============================] - 1s 2ms/step - loss: 291.8440\n",
            "Epoch 68/120\n",
            "383/383 [==============================] - 1s 2ms/step - loss: 291.3379\n",
            "Epoch 69/120\n",
            "383/383 [==============================] - 1s 2ms/step - loss: 291.1466\n",
            "Epoch 70/120\n",
            "383/383 [==============================] - 1s 2ms/step - loss: 291.6416\n",
            "Epoch 71/120\n",
            "383/383 [==============================] - 1s 2ms/step - loss: 291.2935\n",
            "Epoch 72/120\n",
            "383/383 [==============================] - 1s 2ms/step - loss: 290.8916\n",
            "Epoch 73/120\n",
            "383/383 [==============================] - 1s 2ms/step - loss: 291.5158\n",
            "Epoch 74/120\n",
            "383/383 [==============================] - 1s 2ms/step - loss: 291.1161\n",
            "Epoch 75/120\n",
            "383/383 [==============================] - 1s 2ms/step - loss: 291.3816\n",
            "Epoch 76/120\n",
            "383/383 [==============================] - 1s 2ms/step - loss: 291.3567\n",
            "Epoch 77/120\n",
            "383/383 [==============================] - 1s 2ms/step - loss: 291.7267\n",
            "Epoch 78/120\n",
            "383/383 [==============================] - 1s 2ms/step - loss: 291.6670\n",
            "Epoch 79/120\n",
            "383/383 [==============================] - 1s 2ms/step - loss: 291.3814\n",
            "Epoch 80/120\n",
            "383/383 [==============================] - 1s 2ms/step - loss: 292.2824\n",
            "Epoch 81/120\n",
            "383/383 [==============================] - 1s 2ms/step - loss: 290.9885\n",
            "Epoch 82/120\n",
            "383/383 [==============================] - 1s 2ms/step - loss: 291.8569\n",
            "Epoch 83/120\n",
            "383/383 [==============================] - 1s 2ms/step - loss: 291.7067\n",
            "Epoch 84/120\n",
            "383/383 [==============================] - 1s 2ms/step - loss: 290.8120\n",
            "Epoch 85/120\n",
            "383/383 [==============================] - 1s 2ms/step - loss: 291.6188\n",
            "Epoch 86/120\n",
            "383/383 [==============================] - 1s 2ms/step - loss: 291.6320\n",
            "Epoch 87/120\n",
            "383/383 [==============================] - 1s 2ms/step - loss: 291.7151\n",
            "Epoch 88/120\n",
            "383/383 [==============================] - 1s 2ms/step - loss: 291.1726\n",
            "Epoch 89/120\n",
            "383/383 [==============================] - 1s 2ms/step - loss: 291.2371\n",
            "Epoch 90/120\n",
            "383/383 [==============================] - 1s 2ms/step - loss: 291.6593\n",
            "Epoch 91/120\n",
            "383/383 [==============================] - 1s 2ms/step - loss: 290.8883\n",
            "Epoch 92/120\n",
            "383/383 [==============================] - 1s 2ms/step - loss: 291.2688\n",
            "Epoch 93/120\n",
            "383/383 [==============================] - 1s 2ms/step - loss: 291.8039\n",
            "Epoch 94/120\n",
            "383/383 [==============================] - 1s 2ms/step - loss: 291.3511\n",
            "Epoch 95/120\n",
            "383/383 [==============================] - 1s 2ms/step - loss: 291.6878\n",
            "Epoch 96/120\n",
            "383/383 [==============================] - 1s 2ms/step - loss: 290.8293\n",
            "Epoch 97/120\n",
            "383/383 [==============================] - 1s 3ms/step - loss: 291.4755\n",
            "Epoch 98/120\n",
            "383/383 [==============================] - 1s 2ms/step - loss: 291.3415\n",
            "Epoch 99/120\n",
            "383/383 [==============================] - 1s 2ms/step - loss: 291.6319\n",
            "Epoch 100/120\n",
            "383/383 [==============================] - 1s 2ms/step - loss: 291.1160\n",
            "Epoch 101/120\n",
            "383/383 [==============================] - 1s 2ms/step - loss: 291.5793\n",
            "Epoch 102/120\n",
            "383/383 [==============================] - 1s 2ms/step - loss: 291.4055\n",
            "Epoch 103/120\n",
            "383/383 [==============================] - 1s 2ms/step - loss: 290.8135\n",
            "Epoch 104/120\n",
            "383/383 [==============================] - 1s 2ms/step - loss: 290.7433\n",
            "Epoch 105/120\n",
            "383/383 [==============================] - 1s 2ms/step - loss: 291.3555\n",
            "Epoch 106/120\n",
            "383/383 [==============================] - 1s 2ms/step - loss: 291.5146\n",
            "Epoch 107/120\n",
            "383/383 [==============================] - 1s 2ms/step - loss: 291.1920\n",
            "Epoch 108/120\n",
            "383/383 [==============================] - 1s 2ms/step - loss: 291.0617\n",
            "Epoch 109/120\n",
            "383/383 [==============================] - 1s 2ms/step - loss: 291.8916\n",
            "Epoch 110/120\n",
            "383/383 [==============================] - 1s 2ms/step - loss: 291.3496\n",
            "Epoch 111/120\n",
            "383/383 [==============================] - 1s 2ms/step - loss: 290.8103\n",
            "Epoch 112/120\n",
            "383/383 [==============================] - 1s 2ms/step - loss: 291.4292\n",
            "Epoch 113/120\n",
            "383/383 [==============================] - 1s 2ms/step - loss: 291.1678\n",
            "Epoch 114/120\n",
            "383/383 [==============================] - 1s 2ms/step - loss: 290.6035\n",
            "Epoch 115/120\n",
            "383/383 [==============================] - 1s 2ms/step - loss: 291.4196\n",
            "Epoch 116/120\n",
            "383/383 [==============================] - 1s 2ms/step - loss: 291.1321\n",
            "Epoch 117/120\n",
            "383/383 [==============================] - 1s 2ms/step - loss: 291.6826\n",
            "Epoch 118/120\n",
            "383/383 [==============================] - 1s 2ms/step - loss: 291.1296\n",
            "Epoch 119/120\n",
            "383/383 [==============================] - 1s 2ms/step - loss: 291.6031\n",
            "Epoch 120/120\n",
            "383/383 [==============================] - 1s 2ms/step - loss: 290.8614\n"
          ]
        },
        {
          "output_type": "execute_result",
          "data": {
            "text/plain": [
              "<keras.src.callbacks.History at 0x799afe93bc40>"
            ]
          },
          "metadata": {},
          "execution_count": 26
        }
      ]
    },
    {
      "cell_type": "code",
      "source": [
        "xtreino.shape #para saber o tamanho do meu banco de dados"
      ],
      "metadata": {
        "colab": {
          "base_uri": "https://localhost:8080/"
        },
        "id": "Pd-gm3M-iMjY",
        "outputId": "7092ecf2-9fe8-4982-d857-8c1123b4cc87"
      },
      "execution_count": null,
      "outputs": [
        {
          "output_type": "execute_result",
          "data": {
            "text/plain": [
              "(7654, 4)"
            ]
          },
          "metadata": {},
          "execution_count": 22
        }
      ]
    },
    {
      "cell_type": "markdown",
      "source": [
        "### Validação"
      ],
      "metadata": {
        "id": "DXNkNawbiguP"
      }
    },
    {
      "cell_type": "code",
      "source": [
        "y_predito = ann.predict(xteste)"
      ],
      "metadata": {
        "colab": {
          "base_uri": "https://localhost:8080/"
        },
        "id": "2AoC5018idKY",
        "outputId": "e733b73f-7264-4c2b-b47f-89f65f27a84c"
      },
      "execution_count": null,
      "outputs": [
        {
          "output_type": "stream",
          "name": "stdout",
          "text": [
            "60/60 [==============================] - 0s 1ms/step\n"
          ]
        }
      ]
    },
    {
      "cell_type": "code",
      "source": [
        "y_predito"
      ],
      "metadata": {
        "id": "7-tfkqW4vAaB"
      },
      "execution_count": null,
      "outputs": []
    }
  ]
}