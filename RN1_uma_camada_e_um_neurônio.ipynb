{
  "nbformat": 4,
  "nbformat_minor": 0,
  "metadata": {
    "colab": {
      "provenance": [],
      "authorship_tag": "ABX9TyPzmmhJY/C+tdTtIWiKasXE",
      "include_colab_link": true
    },
    "kernelspec": {
      "name": "python3",
      "display_name": "Python 3"
    },
    "language_info": {
      "name": "python"
    }
  },
  "cells": [
    {
      "cell_type": "markdown",
      "metadata": {
        "id": "view-in-github",
        "colab_type": "text"
      },
      "source": [
        "<a href=\"https://colab.research.google.com/github/anacarolinamartins07/Projects_Deep_Learning/blob/main/RN1_uma_camada_e_um_neur%C3%B4nio.ipynb\" target=\"_parent\"><img src=\"https://colab.research.google.com/assets/colab-badge.svg\" alt=\"Open In Colab\"/></a>"
      ]
    },
    {
      "cell_type": "code",
      "execution_count": null,
      "metadata": {
        "id": "Em64-4Be0ipB"
      },
      "outputs": [],
      "source": [
        "x = 1 #input: valor de entrada\n",
        "y = 0 #out: valor de saída\n",
        "w0 = 0.4 #peso inicial"
      ]
    },
    {
      "cell_type": "code",
      "source": [
        "soma = (w0 * x)\n",
        "print(\"A soma é :\", soma)"
      ],
      "metadata": {
        "colab": {
          "base_uri": "https://localhost:8080/"
        },
        "id": "FA-ddwio1636",
        "outputId": "dd8b99e5-4013-4cc7-9fa4-095ae85780c7"
      },
      "execution_count": null,
      "outputs": [
        {
          "output_type": "stream",
          "name": "stdout",
          "text": [
            "A soma é : 0.4\n"
          ]
        }
      ]
    },
    {
      "cell_type": "code",
      "source": [
        "def ativacao(soma):'[p11  8-q0]'\n",
        "  if soma>=0:\n",
        "    return 1\n",
        "  else:\n",
        "   return 0"
      ],
      "metadata": {
        "id": "rVjX47SB3aoh"
      },
      "execution_count": null,
      "outputs": []
    },
    {
      "cell_type": "code",
      "source": [
        "y_hat = ativacao(soma)\n",
        "\n",
        "print(\"O valor de ntrada foi X:\",x)\n",
        "print(\"o valor de saida foi:\",y)\n",
        "print(\"o valor predito foi:\",y_hat)"
      ],
      "metadata": {
        "colab": {
          "base_uri": "https://localhost:8080/"
        },
        "id": "vLFVbKtg4Re6",
        "outputId": "31a40c6c-4d7f-4c3d-d385-8367375a6f89"
      },
      "execution_count": null,
      "outputs": [
        {
          "output_type": "stream",
          "name": "stdout",
          "text": [
            "O valor de ntrada foi X: 1\n",
            "o valor de saida foi: 0\n",
            "o valor predito foi: 1\n"
          ]
        }
      ]
    },
    {
      "cell_type": "code",
      "source": [
        "erro = y - y_hat\n",
        "print(\"o valor do erro é: \", erro)"
      ],
      "metadata": {
        "colab": {
          "base_uri": "https://localhost:8080/"
        },
        "id": "4F-VZHB-5oF-",
        "outputId": "2f7b6f22-8e5a-4af4-fcf7-9e354e9b2b66"
      },
      "execution_count": null,
      "outputs": [
        {
          "output_type": "stream",
          "name": "stdout",
          "text": [
            "o valor do erro é:  -1\n"
          ]
        }
      ]
    },
    {
      "cell_type": "code",
      "source": [
        "taxa_aprendizado = 0.1\n",
        "w1 = w0 + (taxa_aprendizado * x * erro)\n",
        "print(w1)"
      ],
      "metadata": {
        "colab": {
          "base_uri": "https://localhost:8080/"
        },
        "id": "48LQLvAZ6Yvs",
        "outputId": "919581e2-d5ef-422d-b0fe-43e1959ff819"
      },
      "execution_count": null,
      "outputs": [
        {
          "output_type": "stream",
          "name": "stdout",
          "text": [
            "0.30000000000000004\n"
          ]
        }
      ]
    },
    {
      "cell_type": "code",
      "source": [
        "import math"
      ],
      "metadata": {
        "id": "rcLsw8r19u-7"
      },
      "execution_count": null,
      "outputs": []
    },
    {
      "cell_type": "code",
      "source": [
        "x = 1 #input: valor de entrada\n",
        "y = 0 #out: valor de saída\n",
        "w0 = 0.5 #peso inicial\n",
        "\n",
        "def ativacao(soma):\n",
        "  if soma>=0:\n",
        "    return 1\n",
        "  else:\n",
        "   return 0\n",
        "\n",
        "print(\"O valor de ntrada foi X:\",x)\n",
        "print(\"o valor de saida foi:\",y)\n",
        "\n",
        "taxa_aprendizado = 0.1\n",
        "erro = math .inf\n",
        "interacao = 0\n",
        "\n",
        "\n",
        "bias = 1\n",
        "bias_weight = 0.5\n",
        "\n",
        "\n",
        "while not erro== 0:\n",
        "  interacao += 1\n",
        "  print(\"interacao\", interacao )\n",
        "  print (\"o peso é: \",w0)\n",
        "  soma = (w0*x) + (bias* bias_weight)\n",
        "  y_hat= ativacao(soma)\n",
        "  print(\"o valor predito foi:\",y_hat)\n",
        "\n",
        "  erro = y - y_hat\n",
        "  print(\"o erro foi:\", erro)\n",
        "\n",
        "  if not erro== 0:\n",
        "   w0 = w0 + (taxa_aprendizado * x * erro)\n",
        "  bias_weight = bias_weight + (taxa_aprendizado * bias *erro)\n",
        "print(\"a rede neural aprendeu\")\n",
        "\n"
      ],
      "metadata": {
        "colab": {
          "base_uri": "https://localhost:8080/"
        },
        "id": "RxOoPsBE9se8",
        "outputId": "d5d050d7-c0e7-47f5-ce97-a247afe2a048"
      },
      "execution_count": null,
      "outputs": [
        {
          "output_type": "stream",
          "name": "stdout",
          "text": [
            "O valor de ntrada foi X: 1\n",
            "o valor de saida foi: 0\n",
            "interacao 1\n",
            "o peso é:  0.5\n",
            "o valor predito foi: 1\n",
            "o erro foi: -1\n",
            "interacao 2\n",
            "o peso é:  0.4\n",
            "o valor predito foi: 1\n",
            "o erro foi: -1\n",
            "interacao 3\n",
            "o peso é:  0.30000000000000004\n",
            "o valor predito foi: 1\n",
            "o erro foi: -1\n",
            "interacao 4\n",
            "o peso é:  0.20000000000000004\n",
            "o valor predito foi: 1\n",
            "o erro foi: -1\n",
            "interacao 5\n",
            "o peso é:  0.10000000000000003\n",
            "o valor predito foi: 1\n",
            "o erro foi: -1\n",
            "interacao 6\n",
            "o peso é:  2.7755575615628914e-17\n",
            "o valor predito foi: 1\n",
            "o erro foi: -1\n",
            "interacao 7\n",
            "o peso é:  -0.09999999999999998\n",
            "o valor predito foi: 0\n",
            "o erro foi: 0\n",
            "a rede neural aprendeu\n"
          ]
        }
      ]
    }
  ]
}